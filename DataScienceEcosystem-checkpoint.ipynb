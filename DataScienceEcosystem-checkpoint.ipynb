{
 "cells": [
  {
   "cell_type": "markdown",
   "id": "63783a1f",
   "metadata": {},
   "source": [
    "# Data Science Tools and Ecosystem"
   ]
  },
  {
   "cell_type": "markdown",
   "id": "7b519f43",
   "metadata": {},
   "source": [
    "In this notebook, Data Science Tools and Ecosystem are summarized."
   ]
  },
  {
   "cell_type": "markdown",
   "id": "11cbd074",
   "metadata": {},
   "source": [
    "# Overview\n",
    "\n",
    "Some of the popular languages that Data Scientists use are:\n",
    "\n",
    "1. **Python:** Widely used for its simplicity and extensive libraries such as NumPy, Pandas, and Scikit-learn.\n",
    "2. **R:** Known for its statistical computing capabilities and strong visualization libraries like ggplot2.\n",
    "3. **SQL:** Essential for working with relational databases and querying structured data."
   ]
  },
  {
   "cell_type": "markdown",
   "id": "aaf9ef5b",
   "metadata": {},
   "source": [
    "Some of the commonly used libraries used by Data Scientists include:\n",
    "\n",
    "1. **NumPy:** A powerful library for numerical computing in Python, providing support for large, multi-dimensional arrays and matrices.\n",
    "2. **Pandas:** A data manipulation and analysis library, widely used for working with structured data through its DataFrame object.\n",
    "3. **Scikit-learn:** A machine learning library that provides simple and efficient tools for data analysis and modeling, built on NumPy, SciPy, and Matplotlib.\n",
    "4. **Matplotlib:** A comprehensive 2D plotting library for creating static, interactive, and animated visualizations in Python."
   ]
  },
  {
   "cell_type": "markdown",
   "id": "2fffb92c",
   "metadata": {},
   "source": [
    "| Data Science Tools      |\n",
    "|-------------------------|\n",
    "| Jupyter Notebooks       |\n",
    "| RStudio                 |\n",
    "| VS Code with Python extension  |\n",
    "\n",
    "Below are a few examples of evaluating arithmetic expressions in Python:"
   ]
  },
  {
   "cell_type": "code",
   "execution_count": 5,
   "id": "6d9f890a",
   "metadata": {},
   "outputs": [
    {
     "data": {
      "text/plain": [
       "17"
      ]
     },
     "execution_count": 5,
     "metadata": {},
     "output_type": "execute_result"
    }
   ],
   "source": [
    "# This is a simple arithmetic expression to multiply then add integers.\n",
    "result = (3 * 4) + 5\n",
    "result"
   ]
  },
  {
   "cell_type": "code",
   "execution_count": 6,
   "id": "d2a518a1",
   "metadata": {},
   "outputs": [
    {
     "data": {
      "text/plain": [
       "3.3333333333333335"
      ]
     },
     "execution_count": 6,
     "metadata": {},
     "output_type": "execute_result"
    }
   ],
   "source": [
    "# This will convert 200 minutes to hours by dividing by 60.\n",
    "hours_result = 200 / 60\n",
    "hours_result\n"
   ]
  },
  {
   "cell_type": "markdown",
   "id": "9e0df909",
   "metadata": {},
   "source": [
    "**Objectives:**\n",
    "\n",
    "- List popular languages for Data Science\n",
    "- Explore commonly used libraries in Data Science\n",
    "- Understand Data Science tools and development environments\n",
    "- Demonstrate evaluating arithmetic expressions in Python\n",
    "- Showcase the conversion of minutes to hours using Python\n"
   ]
  },
  {
   "cell_type": "markdown",
   "id": "6a77ba4a",
   "metadata": {},
   "source": [
    "## Author\n",
    "\n",
    "Rudraksh Jani"
   ]
  },
  {
   "cell_type": "code",
   "execution_count": null,
   "id": "4696885e",
   "metadata": {},
   "outputs": [],
   "source": []
  }
 ],
 "metadata": {
  "kernelspec": {
   "display_name": "Python 3 (ipykernel)",
   "language": "python",
   "name": "python3"
  },
  "language_info": {
   "codemirror_mode": {
    "name": "ipython",
    "version": 3
   },
   "file_extension": ".py",
   "mimetype": "text/x-python",
   "name": "python",
   "nbconvert_exporter": "python",
   "pygments_lexer": "ipython3",
   "version": "3.9.6"
  }
 },
 "nbformat": 4,
 "nbformat_minor": 5
}
